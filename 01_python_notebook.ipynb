{
  "nbformat": 4,
  "nbformat_minor": 0,
  "metadata": {
    "colab": {
      "provenance": [],
      "authorship_tag": "ABX9TyPVlM81acrj/BBHQ7/ESa6/",
      "include_colab_link": true
    },
    "kernelspec": {
      "name": "python3",
      "display_name": "Python 3"
    },
    "language_info": {
      "name": "python"
    }
  },
  "cells": [
    {
      "cell_type": "markdown",
      "metadata": {
        "id": "view-in-github",
        "colab_type": "text"
      },
      "source": [
        "<a href=\"https://colab.research.google.com/github/RosaTorres44/BDS-G3/blob/modulo03/01_python_notebook.ipynb\" target=\"_parent\"><img src=\"https://colab.research.google.com/assets/colab-badge.svg\" alt=\"Open In Colab\"/></a>"
      ]
    },
    {
      "cell_type": "markdown",
      "source": [
        "# Primeros pasos con python"
      ],
      "metadata": {
        "id": "HalbYlWCmWq8"
      }
    },
    {
      "cell_type": "code",
      "execution_count": null,
      "metadata": {
        "colab": {
          "base_uri": "https://localhost:8080/"
        },
        "id": "7QuxVzBWmKk-",
        "outputId": "8e0b0e3d-c404-4d75-9bd2-57fac5391007"
      },
      "outputs": [
        {
          "output_type": "stream",
          "name": "stdout",
          "text": [
            "Hola mundo con colab\n"
          ]
        }
      ],
      "source": [
        "print(\"Hola mundo con colab\")"
      ]
    },
    {
      "cell_type": "markdown",
      "source": [
        "# operaciones matemáticas\n",
        ":)\n",
        "\n"
      ],
      "metadata": {
        "id": "Ry-oCqGxnBDU"
      }
    },
    {
      "cell_type": "code",
      "source": [
        " suma = 4 + 6\n",
        " suma\n",
        " resta = 10 - 2\n",
        " resta\n",
        " potencia = 2 ** 3\n",
        " potencia"
      ],
      "metadata": {
        "colab": {
          "base_uri": "https://localhost:8080/"
        },
        "id": "Ij4v91vsnPNk",
        "outputId": "73992694-f906-45a7-e5fc-99af64cfa3f5"
      },
      "execution_count": null,
      "outputs": [
        {
          "output_type": "execute_result",
          "data": {
            "text/plain": [
              "8"
            ]
          },
          "metadata": {},
          "execution_count": 2
        }
      ]
    },
    {
      "cell_type": "markdown",
      "source": [
        "# LISTAS Y BUCLES"
      ],
      "metadata": {
        "id": "fiGfFO0Xn_9l"
      }
    },
    {
      "cell_type": "code",
      "source": [
        "lista_numeros = [1,2,3,4,5,6,7,8,9]\n",
        "for numero in lista_numeros:\n",
        "  print(numero)\n"
      ],
      "metadata": {
        "colab": {
          "base_uri": "https://localhost:8080/"
        },
        "id": "pdr54inVoDIt",
        "outputId": "fa2c137d-1783-4b9f-d3d1-91c9975917e9"
      },
      "execution_count": null,
      "outputs": [
        {
          "output_type": "stream",
          "name": "stdout",
          "text": [
            "1\n",
            "2\n",
            "3\n",
            "4\n",
            "5\n",
            "6\n",
            "7\n",
            "8\n",
            "9\n"
          ]
        }
      ]
    },
    {
      "cell_type": "markdown",
      "source": [
        "# funciones"
      ],
      "metadata": {
        "id": "WQysMx5moXFA"
      }
    },
    {
      "cell_type": "code",
      "source": [
        "def suma (a,b):\n",
        "  resultado = a+b\n",
        "  return resultado\n",
        "\n",
        "print(suma(2,3))"
      ],
      "metadata": {
        "colab": {
          "base_uri": "https://localhost:8080/"
        },
        "id": "UuXEH1wcoW1Q",
        "outputId": "5ecdd6c2-7bcf-4ed0-8701-6e5546369a8e"
      },
      "execution_count": null,
      "outputs": [
        {
          "output_type": "stream",
          "name": "stdout",
          "text": [
            "5\n"
          ]
        }
      ]
    }
  ]
}