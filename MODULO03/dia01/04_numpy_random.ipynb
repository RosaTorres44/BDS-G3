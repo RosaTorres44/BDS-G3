{
  "nbformat": 4,
  "nbformat_minor": 0,
  "metadata": {
    "colab": {
      "provenance": []
    },
    "kernelspec": {
      "name": "python3",
      "display_name": "Python 3"
    },
    "language_info": {
      "name": "python"
    }
  },
  "cells": [
    {
      "cell_type": "markdown",
      "source": [
        "# DATOS ALEATORIOS"
      ],
      "metadata": {
        "id": "rkpuAoIL0DGQ"
      }
    },
    {
      "cell_type": "code",
      "execution_count": 1,
      "metadata": {
        "id": "pBx3wEUZz9nl"
      },
      "outputs": [],
      "source": [
        "import numpy as np"
      ]
    },
    {
      "cell_type": "markdown",
      "source": [
        "\n",
        "\n",
        "> arange\n",
        "\n"
      ],
      "metadata": {
        "id": "k4pM5YcJ0Vuf"
      }
    },
    {
      "cell_type": "code",
      "source": [
        "np.arange(0,20,2)"
      ],
      "metadata": {
        "colab": {
          "base_uri": "https://localhost:8080/"
        },
        "id": "iMIiiLIg0a6J",
        "outputId": "b13c7722-1e6d-4e12-9e4b-4751798f6554"
      },
      "execution_count": 2,
      "outputs": [
        {
          "output_type": "execute_result",
          "data": {
            "text/plain": [
              "array([ 0,  2,  4,  6,  8, 10, 12, 14, 16, 18])"
            ]
          },
          "metadata": {},
          "execution_count": 2
        }
      ]
    },
    {
      "cell_type": "markdown",
      "source": [
        "\n",
        "\n",
        "> zeros\n",
        "\n"
      ],
      "metadata": {
        "id": "CXMFkmBl0pXG"
      }
    },
    {
      "cell_type": "code",
      "source": [
        "np.zeros((3,2))"
      ],
      "metadata": {
        "colab": {
          "base_uri": "https://localhost:8080/"
        },
        "id": "MlTtEy3y0rmc",
        "outputId": "43abdbbb-3962-4a65-9727-70d255dc408a"
      },
      "execution_count": 4,
      "outputs": [
        {
          "output_type": "execute_result",
          "data": {
            "text/plain": [
              "array([[0., 0.],\n",
              "       [0., 0.],\n",
              "       [0., 0.]])"
            ]
          },
          "metadata": {},
          "execution_count": 4
        }
      ]
    },
    {
      "cell_type": "markdown",
      "source": [
        "\n",
        "\n",
        "> ones\n",
        "\n"
      ],
      "metadata": {
        "id": "_scBhWW203cY"
      }
    },
    {
      "cell_type": "code",
      "source": [
        "np.ones((10,5))"
      ],
      "metadata": {
        "colab": {
          "base_uri": "https://localhost:8080/"
        },
        "id": "KUS1sYtm044k",
        "outputId": "38c6f82d-53b7-40a5-a6fa-bbdc6126b638"
      },
      "execution_count": 6,
      "outputs": [
        {
          "output_type": "execute_result",
          "data": {
            "text/plain": [
              "array([[1., 1., 1., 1., 1.],\n",
              "       [1., 1., 1., 1., 1.],\n",
              "       [1., 1., 1., 1., 1.],\n",
              "       [1., 1., 1., 1., 1.],\n",
              "       [1., 1., 1., 1., 1.],\n",
              "       [1., 1., 1., 1., 1.],\n",
              "       [1., 1., 1., 1., 1.],\n",
              "       [1., 1., 1., 1., 1.],\n",
              "       [1., 1., 1., 1., 1.],\n",
              "       [1., 1., 1., 1., 1.]])"
            ]
          },
          "metadata": {},
          "execution_count": 6
        }
      ]
    },
    {
      "cell_type": "markdown",
      "source": [
        "\n",
        "\n",
        "> EYE\n",
        "\n",
        "\n",
        "\n"
      ],
      "metadata": {
        "id": "ERrvl6Nx1AuQ"
      }
    },
    {
      "cell_type": "code",
      "source": [
        "np.eye(4)"
      ],
      "metadata": {
        "colab": {
          "base_uri": "https://localhost:8080/"
        },
        "id": "6ujZ1x_u1Hjo",
        "outputId": "0358d9b4-acbc-471b-98db-38268b2fbfee"
      },
      "execution_count": 7,
      "outputs": [
        {
          "output_type": "execute_result",
          "data": {
            "text/plain": [
              "array([[1., 0., 0., 0.],\n",
              "       [0., 1., 0., 0.],\n",
              "       [0., 0., 1., 0.],\n",
              "       [0., 0., 0., 1.]])"
            ]
          },
          "metadata": {},
          "execution_count": 7
        }
      ]
    },
    {
      "cell_type": "markdown",
      "source": [
        "\n",
        "\n",
        "> linespace\n",
        "\n"
      ],
      "metadata": {
        "id": "L1jPVzpY1Rm7"
      }
    },
    {
      "cell_type": "code",
      "source": [
        "np.linspace(0,10,15)"
      ],
      "metadata": {
        "colab": {
          "base_uri": "https://localhost:8080/"
        },
        "id": "E0txGCqi1RfC",
        "outputId": "f69e9f32-ac4a-4769-f80c-ba935f9d8218"
      },
      "execution_count": 9,
      "outputs": [
        {
          "output_type": "execute_result",
          "data": {
            "text/plain": [
              "array([ 0.        ,  0.71428571,  1.42857143,  2.14285714,  2.85714286,\n",
              "        3.57142857,  4.28571429,  5.        ,  5.71428571,  6.42857143,\n",
              "        7.14285714,  7.85714286,  8.57142857,  9.28571429, 10.        ])"
            ]
          },
          "metadata": {},
          "execution_count": 9
        }
      ]
    },
    {
      "cell_type": "markdown",
      "source": [
        "\n",
        "\n",
        "> random\n",
        "\n"
      ],
      "metadata": {
        "id": "IatUyzgu1dfx"
      }
    },
    {
      "cell_type": "code",
      "source": [
        "np.random.rand()"
      ],
      "metadata": {
        "colab": {
          "base_uri": "https://localhost:8080/"
        },
        "id": "fQfqwjWi1e1t",
        "outputId": "c985f0ef-fc04-40ed-9fa7-60491a20ce86"
      },
      "execution_count": 11,
      "outputs": [
        {
          "output_type": "execute_result",
          "data": {
            "text/plain": [
              "0.9192681318344327"
            ]
          },
          "metadata": {},
          "execution_count": 11
        }
      ]
    },
    {
      "cell_type": "code",
      "source": [
        "np.random.rand(4)"
      ],
      "metadata": {
        "colab": {
          "base_uri": "https://localhost:8080/"
        },
        "id": "UR1iPm-_1mev",
        "outputId": "12e7de0d-5261-4fc7-e21f-e9eb18366b4d"
      },
      "execution_count": 12,
      "outputs": [
        {
          "output_type": "execute_result",
          "data": {
            "text/plain": [
              "array([0.85641036, 0.00802675, 0.37178598, 0.22502801])"
            ]
          },
          "metadata": {},
          "execution_count": 12
        }
      ]
    },
    {
      "cell_type": "code",
      "source": [
        "np.random.rand(4,4)"
      ],
      "metadata": {
        "colab": {
          "base_uri": "https://localhost:8080/"
        },
        "id": "0YUAV62n1qQD",
        "outputId": "404a6b6c-c153-4179-dce7-0564c637be73"
      },
      "execution_count": 15,
      "outputs": [
        {
          "output_type": "execute_result",
          "data": {
            "text/plain": [
              "array([[0.80005564, 0.45662812, 0.90361076, 0.67260269],\n",
              "       [0.50779672, 0.47417586, 0.95840172, 0.57210101],\n",
              "       [0.86955044, 0.57445581, 0.47963485, 0.03296665],\n",
              "       [0.58614399, 0.02628456, 0.98980991, 0.3283277 ]])"
            ]
          },
          "metadata": {},
          "execution_count": 15
        }
      ]
    },
    {
      "cell_type": "code",
      "source": [
        "np.random.randint(1,100,(10,10))"
      ],
      "metadata": {
        "colab": {
          "base_uri": "https://localhost:8080/"
        },
        "id": "fZFYPO691w3g",
        "outputId": "da9b9cda-14c1-4485-a409-f764d36ba097"
      },
      "execution_count": 16,
      "outputs": [
        {
          "output_type": "execute_result",
          "data": {
            "text/plain": [
              "array([[25, 30, 42, 34, 30, 52, 28, 94, 92, 96],\n",
              "       [65, 78, 56, 39, 60, 40, 85, 34, 82, 96],\n",
              "       [44, 93, 94, 94, 62, 25, 79,  2, 93,  4],\n",
              "       [81, 72, 62, 97,  1, 72, 47, 89, 97, 81],\n",
              "       [15, 73, 68, 60, 44,  7, 19, 31,  4, 52],\n",
              "       [42, 32, 51, 48, 21, 45, 45, 54, 94, 17],\n",
              "       [99, 17,  7, 68, 90, 69, 44, 79, 34, 70],\n",
              "       [85, 68, 24, 14, 66, 43, 35, 35, 22, 95],\n",
              "       [28, 85, 13, 42, 58, 39, 91, 61, 79, 75],\n",
              "       [47, 41, 82, 48, 49, 46, 78, 10, 40, 91]])"
            ]
          },
          "metadata": {},
          "execution_count": 16
        }
      ]
    }
  ]
}