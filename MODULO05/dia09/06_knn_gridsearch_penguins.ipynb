{
  "nbformat": 4,
  "nbformat_minor": 0,
  "metadata": {
    "colab": {
      "provenance": []
    },
    "kernelspec": {
      "name": "python3",
      "display_name": "Python 3"
    },
    "language_info": {
      "name": "python"
    }
  },
  "cells": [
    {
      "cell_type": "code",
      "execution_count": 3,
      "metadata": {
        "id": "0VdS6gWPs55C"
      },
      "outputs": [],
      "source": [
        "import pandas as pd\n",
        "import seaborn as sns\n",
        "import numpy as np\n",
        "import matplotlib.pyplot as plt"
      ]
    },
    {
      "cell_type": "code",
      "source": [
        "from sklearn.model_selection import train_test_split, GridSearchCV\n",
        "from sklearn.preprocessing import StandardScaler, LabelEncoder\n",
        "from sklearn.neighbors import KNeighborsClassifier\n",
        "from sklearn.metrics import accuracy_score, classification_report"
      ],
      "metadata": {
        "id": "F9pz94yitHx9"
      },
      "execution_count": 1,
      "outputs": []
    },
    {
      "cell_type": "code",
      "source": [
        "# Cargar el dataset de penguins\n",
        "df = sns.load_dataset(\"penguins\").dropna()\n",
        "\n",
        "# Seleccionar características y la variable objetivo\n",
        "X = df[['bill_length_mm', 'bill_depth_mm', 'flipper_length_mm', 'body_mass_g']]\n",
        "y = df['species']"
      ],
      "metadata": {
        "id": "41T_q5DdtUJk"
      },
      "execution_count": 4,
      "outputs": []
    },
    {
      "cell_type": "code",
      "source": [
        "# Codificar la variable objetivo\n",
        "y = LabelEncoder().fit_transform(y)"
      ],
      "metadata": {
        "id": "WVgIX3fetd9r"
      },
      "execution_count": 5,
      "outputs": []
    },
    {
      "cell_type": "code",
      "source": [
        "X_train, X_test, y_train, y_test = train_test_split(X, y, test_size=0.2, random_state=42)"
      ],
      "metadata": {
        "id": "zqCRSrPPtkPL"
      },
      "execution_count": 8,
      "outputs": []
    },
    {
      "cell_type": "code",
      "source": [
        "scaler = StandardScaler()\n",
        "X_train = scaler.fit_transform(X_train)\n",
        "X_test = scaler.transform(X_test)"
      ],
      "metadata": {
        "id": "1xoxe5zQtnk7"
      },
      "execution_count": 9,
      "outputs": []
    },
    {
      "cell_type": "markdown",
      "source": [
        "#DEFINIR HIPERPARAMETROS"
      ],
      "metadata": {
        "id": "u22yJysBtrqD"
      }
    },
    {
      "cell_type": "code",
      "source": [
        "param_grid = {\n",
        "    'n_neighbors': np.arange(1, 20, 2),\n",
        "    'weights': ['uniform', 'distance'],\n",
        "    'metric': ['euclidean', 'manhattan', 'chebyshev', 'minkowski'],\n",
        "    'algorithm': ['auto', 'ball_tree', 'kd_tree', 'brute'],\n",
        "    'leaf_size': [10, 20, 30, 40, 50],\n",
        "    'p': [1, 2, 3]\n",
        "}"
      ],
      "metadata": {
        "id": "jzcfAY6qtwUb"
      },
      "execution_count": 10,
      "outputs": []
    },
    {
      "cell_type": "code",
      "source": [
        "knn = KNeighborsClassifier()\n",
        "grid_search = GridSearchCV(knn,param_grid,cv=5,scoring='accuracy',n_jobs=-1)\n",
        "grid_search.fit(X_train,y_train)\n",
        "print(\"Mejores parámetros:\", grid_search.best_params_)\n",
        "print(\"Mejor precisión:\", grid_search.best_score_)"
      ],
      "metadata": {
        "colab": {
          "base_uri": "https://localhost:8080/"
        },
        "id": "1J0qnF94t3DD",
        "outputId": "7a740fe4-0a63-4a5b-d7b5-ca1f77a407ab"
      },
      "execution_count": 12,
      "outputs": [
        {
          "output_type": "stream",
          "name": "stdout",
          "text": [
            "Mejores parámetros: {'algorithm': 'auto', 'leaf_size': 10, 'metric': 'chebyshev', 'n_neighbors': 3, 'p': 1, 'weights': 'uniform'}\n",
            "Mejor precisión: 0.9887491264849755\n"
          ]
        }
      ]
    },
    {
      "cell_type": "markdown",
      "source": [
        "# CREAMOS MODELO CON LOS MEJORES PARAMETROS"
      ],
      "metadata": {
        "id": "9-XheyRpvA2W"
      }
    },
    {
      "cell_type": "code",
      "source": [
        "best_knn = grid_search.best_estimator_\n",
        "best_knn.fit(X_train,y_train)\n",
        "y_pred = best_knn.predict(X_test)\n",
        "\n",
        "accuracy = accuracy_score(y_test,y_pred)\n",
        "print(f'Accuracy : {accuracy:.2f}')"
      ],
      "metadata": {
        "colab": {
          "base_uri": "https://localhost:8080/"
        },
        "id": "mFxfPPGfvDlM",
        "outputId": "88d4aaa8-33b9-4a4e-d960-9e2a6e50fbc4"
      },
      "execution_count": 13,
      "outputs": [
        {
          "output_type": "stream",
          "name": "stdout",
          "text": [
            "Accuracy : 1.00\n"
          ]
        }
      ]
    }
  ]
}